{
 "cells": [
  {
   "cell_type": "markdown",
   "id": "664a46bf-b7d8-46ae-898b-7cdf98935b6a",
   "metadata": {},
   "source": [
    "#  08 feb assignmnet"
   ]
  },
  {
   "cell_type": "markdown",
   "id": "55f9eb8f-ea94-41e7-be3f-fa00caac32f2",
   "metadata": {},
   "source": [
    "#  Answer -01 "
   ]
  },
  {
   "cell_type": "code",
   "execution_count": null,
   "id": "7d22fc6a-2f41-4f7d-8161-2b27eb20b5c8",
   "metadata": {},
   "outputs": [],
   "source": [
    "Abstraction is the process of hiding the internal details of an\n",
    "application from the outer world. Abstraction is used to describe \n",
    "things in simple terms. It’s used to create a boundary between the application and the client programs.\n",
    "example -  \n",
    "class parent_class:\n",
    "    body of parent class\n",
    "\n",
    "class child_class( parent_class):\n",
    "    body of child class\n",
    "\n",
    "    2- example \n",
    "from abc import ABC, abstractmethod\n",
    "class MyClass(ABC):\n",
    " @abstractmethod\n",
    " def mymethod(self):\n",
    "  #empty body\n",
    "  pass"
   ]
  },
  {
   "cell_type": "markdown",
   "id": "ab0b9629-7220-4d8f-94b3-cc3f53f1bb39",
   "metadata": {},
   "source": [
    "#  Answer -02 "
   ]
  },
  {
   "cell_type": "code",
   "execution_count": null,
   "id": "94f476bb-5963-4d2c-8697-ac39cf56ee97",
   "metadata": {},
   "outputs": [],
   "source": [
    "Difference between Abstraction and Encapsulation\n",
    "1- Abstraction in Object Oriented Programming solves the issues at the design level.\n",
    "2-Abstraction in Programming is about hiding unwanted details while showing most essential information.\n",
    "3-Data Abstraction in Java allows focussing on what the information object must contain\n",
    "\n",
    "   Encapsulation\n",
    "    \n",
    "1-Encapsulation solves it implementation level.\n",
    "2-Encapsulation means binding the code and data into a single unit.\n",
    "3-Encapsulation means hiding the internal details or mechanics of how an object does something for security reasons\n",
    "\n",
    "\n",
    " "
   ]
  },
  {
   "cell_type": "markdown",
   "id": "52be88d4-2b8c-4a02-8195-946b00e66588",
   "metadata": {},
   "source": [
    "#  Answer -03 "
   ]
  },
  {
   "cell_type": "code",
   "execution_count": null,
   "id": "f34495be-9422-4e22-ad72-9d2409828f9d",
   "metadata": {},
   "outputs": [],
   "source": [
    "An Abstract class is one of important concept in object oriented programming(oops). \n",
    "It is like blueprint for other classes.\n",
    "\n",
    "Where we use abstract--\n",
    "\n",
    "For larger projects, it is impossible to remember the class details, and also the reusability of code can increase the bug. Therefore, it plays a crucial role in our projects.\n",
    "\n",
    "By default, Python does not provide abstract classes. The ‘abc’ module in the Python library provides the infrastructure for defining custom abstract base classes.\n",
    "\n",
    "Abstract class cannot be instantiated in python. An Abstract method can be call by its subclasses.\n"
   ]
  },
  {
   "cell_type": "markdown",
   "id": "2b0211a8-12e6-4159-b18d-6f19ac8c34f0",
   "metadata": {},
   "source": [
    "#  Answer -04 "
   ]
  },
  {
   "cell_type": "code",
   "execution_count": null,
   "id": "8e8de976-eb62-415c-852a-2927b731fd74",
   "metadata": {},
   "outputs": [],
   "source": [
    "The process by which data and functions are defined in \n",
    "such a way that only essential details can be seen and unnecessary \n",
    "implementations are hidden is called Data Abstraction.\n"
   ]
  },
  {
   "cell_type": "markdown",
   "id": "b30fa9f1-0f4a-4f85-a94d-db1289cece76",
   "metadata": {},
   "source": [
    "#  Answer -05 "
   ]
  },
  {
   "cell_type": "code",
   "execution_count": null,
   "id": "431aa32d-57d0-4c32-9a6f-bb5211266dcf",
   "metadata": {},
   "outputs": [],
   "source": [
    "Abstract Class is a type of class in OOPs.that declare one or more abstract methods. \n",
    "These classes can have abstract methods as well as concrete methods. \n",
    "A normal class cannot have abstract methods. An abstract class is a class that contains at least one abstract method."
   ]
  }
 ],
 "metadata": {
  "kernelspec": {
   "display_name": "Python 3 (ipykernel)",
   "language": "python",
   "name": "python3"
  },
  "language_info": {
   "codemirror_mode": {
    "name": "ipython",
    "version": 3
   },
   "file_extension": ".py",
   "mimetype": "text/x-python",
   "name": "python",
   "nbconvert_exporter": "python",
   "pygments_lexer": "ipython3",
   "version": "3.10.8"
  }
 },
 "nbformat": 4,
 "nbformat_minor": 5
}
